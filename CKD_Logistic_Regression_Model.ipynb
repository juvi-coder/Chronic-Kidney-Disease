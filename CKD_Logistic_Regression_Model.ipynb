{
  "nbformat": 4,
  "nbformat_minor": 0,
  "metadata": {
    "colab": {
      "provenance": []
    },
    "kernelspec": {
      "name": "python3",
      "display_name": "Python 3"
    },
    "language_info": {
      "name": "python"
    }
  },
  "cells": [
    {
      "cell_type": "code",
      "execution_count": null,
      "metadata": {
        "id": "qLMRuF4zGBG0"
      },
      "outputs": [],
      "source": [
        "import pandas as pd"
      ]
    },
    {
      "cell_type": "code",
      "source": [
        "df = pd.read_excel('Chronic Kidney Disease Dataset.xls',sheet_name = 1)"
      ],
      "metadata": {
        "id": "oA2sEK5k3_tL"
      },
      "execution_count": null,
      "outputs": []
    },
    {
      "cell_type": "code",
      "source": [
        "df.shape"
      ],
      "metadata": {
        "colab": {
          "base_uri": "https://localhost:8080/"
        },
        "id": "VgnWA-xh4MrX",
        "outputId": "8464b9fa-d183-4faf-bb16-37c274d36f31"
      },
      "execution_count": null,
      "outputs": [
        {
          "output_type": "execute_result",
          "data": {
            "text/plain": [
              "(8819, 34)"
            ]
          },
          "metadata": {},
          "execution_count": 3
        }
      ]
    },
    {
      "cell_type": "code",
      "source": [
        "df.columns"
      ],
      "metadata": {
        "colab": {
          "base_uri": "https://localhost:8080/"
        },
        "id": "ywJ5VtcY4lmB",
        "outputId": "1524aef5-6261-44b3-d9d2-81f607e45904"
      },
      "execution_count": null,
      "outputs": [
        {
          "output_type": "execute_result",
          "data": {
            "text/plain": [
              "Index(['ID', 'Age', 'Female', 'Racegrp', 'Educ', 'Unmarried', 'Income',\n",
              "       'CareSource', 'Insured', 'Weight', 'Height', 'BMI', 'Obese', 'Waist',\n",
              "       'SBP', 'DBP', 'HDL', 'LDL', 'Total Chol', 'Dyslipidemia', 'PVD',\n",
              "       'Activity', 'PoorVision', 'Smoker', 'Hypertension', 'Fam Hypertension',\n",
              "       'Diabetes', 'Fam Diabetes', 'Stroke', 'CVD', 'Fam CVD', 'CHF', 'Anemia',\n",
              "       'CKD'],\n",
              "      dtype='object')"
            ]
          },
          "metadata": {},
          "execution_count": 4
        }
      ]
    },
    {
      "cell_type": "code",
      "source": [
        "df.columns"
      ],
      "metadata": {
        "colab": {
          "base_uri": "https://localhost:8080/"
        },
        "id": "L_Wz4mKy6zdH",
        "outputId": "a8f05603-d7ea-4d63-fea7-78ae8c8e0f25"
      },
      "execution_count": null,
      "outputs": [
        {
          "output_type": "execute_result",
          "data": {
            "text/plain": [
              "Index(['ID', 'Age', 'Female', 'Racegrp', 'Educ', 'Unmarried', 'Income',\n",
              "       'CareSource', 'Insured', 'Weight', 'Height', 'BMI', 'Obese', 'Waist',\n",
              "       'SBP', 'DBP', 'HDL', 'LDL', 'Total Chol', 'Dyslipidemia', 'PVD',\n",
              "       'Activity', 'PoorVision', 'Smoker', 'Hypertension', 'Fam Hypertension',\n",
              "       'Diabetes', 'Fam Diabetes', 'Stroke', 'CVD', 'Fam CVD', 'CHF', 'Anemia',\n",
              "       'CKD'],\n",
              "      dtype='object')"
            ]
          },
          "metadata": {},
          "execution_count": 5
        }
      ]
    },
    {
      "cell_type": "code",
      "source": [
        "df.isna().sum()"
      ],
      "metadata": {
        "colab": {
          "base_uri": "https://localhost:8080/"
        },
        "id": "vooMNbMbGNod",
        "outputId": "78539e03-0002-472d-988f-eef311562e48"
      },
      "execution_count": null,
      "outputs": [
        {
          "output_type": "execute_result",
          "data": {
            "text/plain": [
              "ID                     0\n",
              "Age                    0\n",
              "Female                 0\n",
              "Racegrp                0\n",
              "Educ                  20\n",
              "Unmarried            452\n",
              "Income              1166\n",
              "CareSource             0\n",
              "Insured              113\n",
              "Weight               194\n",
              "Height               191\n",
              "BMI                  290\n",
              "Obese                290\n",
              "Waist                314\n",
              "SBP                  308\n",
              "DBP                  380\n",
              "HDL                   17\n",
              "LDL                   18\n",
              "Total Chol            16\n",
              "Dyslipidemia           0\n",
              "PVD                    0\n",
              "Activity              10\n",
              "PoorVision           567\n",
              "Smoker                 0\n",
              "Hypertension          80\n",
              "Fam Hypertension       0\n",
              "Diabetes               2\n",
              "Fam Diabetes           0\n",
              "Stroke                11\n",
              "CVD                   23\n",
              "Fam CVD              419\n",
              "CHF                   36\n",
              "Anemia                 6\n",
              "CKD                 2819\n",
              "dtype: int64"
            ]
          },
          "metadata": {},
          "execution_count": 6
        }
      ]
    },
    {
      "cell_type": "code",
      "source": [
        "df = df.dropna(subset=['CKD'])"
      ],
      "metadata": {
        "id": "8DSkbPMD6yhR"
      },
      "execution_count": null,
      "outputs": []
    },
    {
      "cell_type": "markdown",
      "source": [
        "I have did all the cleaning, Feature Engineering in Excel. \n",
        "\n",
        "**Reading the Final Data Set to do EDA and Build the model.**"
      ],
      "metadata": {
        "id": "o2MbRxDiejhG"
      }
    },
    {
      "cell_type": "code",
      "source": [
        "df = pd.read_excel('Final Kindey.xlsx', sheet_name=0)"
      ],
      "metadata": {
        "id": "qGO7jNCqS6Ko"
      },
      "execution_count": 2,
      "outputs": []
    },
    {
      "cell_type": "code",
      "source": [
        "df.shape #Shape"
      ],
      "metadata": {
        "colab": {
          "base_uri": "https://localhost:8080/"
        },
        "id": "iC8gzB-aTDJ4",
        "outputId": "d97eb464-7e7d-471b-fb0b-29a1dced1f54"
      },
      "execution_count": null,
      "outputs": [
        {
          "output_type": "execute_result",
          "data": {
            "text/plain": [
              "(5278, 23)"
            ]
          },
          "metadata": {},
          "execution_count": 10
        }
      ]
    },
    {
      "cell_type": "code",
      "source": [
        "df.columns #Columns "
      ],
      "metadata": {
        "colab": {
          "base_uri": "https://localhost:8080/"
        },
        "id": "hB9unV1ATIG7",
        "outputId": "7d98a3cb-7c6c-4639-9f78-84cae9089bf1"
      },
      "execution_count": null,
      "outputs": [
        {
          "output_type": "execute_result",
          "data": {
            "text/plain": [
              "Index(['Age', 'Gender', 'Racegrp', 'White', 'Black', 'Hispa', 'Other',\n",
              "       'Under Weight Flag', 'BMI', 'Total Chol', 'PVD', 'Activity',\n",
              "       'PoorVision', 'Smoker', 'Hypertension', 'Fam Hypertension', 'Diabetes',\n",
              "       'Fam Diabetes', 'Stroke', 'CVD', 'Fam CVD', 'CHF', 'CKD'],\n",
              "      dtype='object')"
            ]
          },
          "metadata": {},
          "execution_count": 11
        }
      ]
    },
    {
      "cell_type": "code",
      "source": [
        "import seaborn as sns\n",
        "import matplotlib.pyplot as plt\n",
        "\n",
        "vars_list = ['Age', 'Gender', 'Racegrp', 'White', 'Black', 'Hispa', 'Other',\n",
        "       'Under Weight Flag', 'BMI', 'Total Chol', 'PVD', 'Activity',\n",
        "       'PoorVision', 'Smoker', 'Hypertension', 'Fam Hypertension', 'Diabetes',\n",
        "       'Fam Diabetes', 'Stroke', 'CVD', 'Fam CVD', 'CHF', 'CKD']\n",
        "\n",
        "\n",
        "# Set the figure size and layout\n",
        "plt.figure(figsize=(20, 30))\n",
        "plt.subplots_adjust(hspace=0.4, wspace=0.4)\n",
        "\n",
        "# Loop through the variables and create countplots\n",
        "for i, var in enumerate(vars_list):\n",
        "    ax = plt.subplot(4,6, i+1) # Set the subplot position\n",
        "    sns.countplot(x=var, data=df, ax=ax) # Create the countplot\n",
        "    plt.title(var, fontsize=14) # Set the title font size\n",
        "    plt.xlabel(\"\") # Remove the x-axis label\n",
        "    plt.ylabel(\"Count\", fontsize=12) # Set the y-axis label font size\n",
        "    # Add count values to each bar\n",
        "    for p in ax.patches:\n",
        "        ax.annotate(format(p.get_height(), '.0f'), (p.get_x() + p.get_width() / 2., p.get_height()),\n",
        "            ha = 'center', va = 'center', xytext = (0, 10), textcoords = 'offset points', fontsize=10)\n",
        "\n",
        "plt.show() # Show the plots\n"
      ],
      "metadata": {
        "colab": {
          "base_uri": "https://localhost:8080/",
          "height": 1000
        },
        "id": "GYYjZy04tFE9",
        "outputId": "998688f2-b1ed-402c-8b41-18e535342829"
      },
      "execution_count": null,
      "outputs": [
        {
          "output_type": "display_data",
          "data": {
            "text/plain": [
              "<Figure size 1440x2160 with 23 Axes>"
            ],
            "image/png": "[encoded data removed]"
          },
          "metadata": {
            "needs_background": "light"
          }
        }
      ]
    },
    {
      "cell_type": "code",
      "source": [
        "import pandas as pd\n",
        "from scipy.stats import chi2_contingency\n",
        "\n",
        "# read in your dataset as a Pandas DataFrame\n",
        "\n",
        "\n",
        "# set the name of your target variable\n",
        "target_var = 'CKD'\n",
        "\n",
        "# create a list of your independent categorical variables\n",
        "cat_vars = ['Age', 'Gender', 'Racegrp', 'White', 'Black', 'Hispa', 'Other',\n",
        "       'Under Weight Flag', 'BMI', 'Total Chol', 'PVD', 'Activity',\n",
        "       'PoorVision', 'Smoker', 'Hypertension', 'Fam Hypertension', 'Diabetes',\n",
        "       'Fam Diabetes', 'Stroke', 'CVD', 'Fam CVD', 'CHF']\n",
        "\n",
        "\n",
        "# loop through each independent variable and perform chi-square test\n",
        "for var in cat_vars:\n",
        "    # create a cross-tabulation table between the independent variable and the target variable\n",
        "    cross_tab = pd.crosstab(index=df[target_var], columns=df[var])\n",
        "\n",
        "    # perform chi-square test and print the results\n",
        "    chi2, p_val, dof, expected = chi2_contingency(cross_tab)\n",
        "    print(f'Chi-square test for {var} vs {target_var}:')\n",
        "    print('Chi-square statistic: ', chi2)\n",
        "    print('p-value: ', p_val)\n",
        "    print('Degrees of freedom: ', dof)\n",
        "    print('Expected frequencies: \\n', expected)\n",
        "    print('\\n')\n",
        "\n",
        "    # determine the significance of the relationship\n",
        "    if p_val < 0.05:\n",
        "        print('There is a significant relationship between the variables.')\n",
        "    else:\n",
        "        print('There is no significant relationship between the variables.')\n",
        "    print('\\n')\n",
        "\n",
        "    # print the cross-tabulation table\n",
        "    print('Cross-tabulation table:')\n",
        "    print(cross_tab)\n",
        "    print('\\n\\n\\n\\n')\n"
      ],
      "metadata": {
        "colab": {
          "base_uri": "https://localhost:8080/"
        },
        "id": "L-WyvNGjJ9cX",
        "outputId": "b97559bb-3efd-4804-faec-20bb0a8c0b2e"
      },
      "execution_count": 3,
      "outputs": [
        {
          "output_type": "stream",
          "name": "stdout",
          "text": [
            "Chi-square test for Age vs CKD:\n",
            "Chi-square statistic:  1011.3330061007865\n",
            "p-value:  1.2489649041133014e-217\n",
            "Degrees of freedom:  4\n",
            "Expected frequencies: \n",
            " [[1336.73133763 1298.06555513 1067.91208791  626.01743085  530.27358848]\n",
            " [ 115.26866237  111.93444487   92.08791209   53.98256915   45.72641152]]\n",
            "\n",
            "\n",
            "There is a significant relationship between the variables.\n",
            "\n",
            "\n",
            "Cross-tabulation table:\n",
            "Age     1     2     3    4    5\n",
            "CKD                            \n",
            "0    1449  1390  1098  567  355\n",
            "1       3    20    62  113  221\n",
            "\n",
            "\n",
            "\n",
            "\n",
            "\n",
            "Chi-square test for Gender vs CKD:\n",
            "Chi-square statistic:  0.33174284992610414\n",
            "p-value:  0.5646346326089632\n",
            "Degrees of freedom:  1\n",
            "Expected frequencies: \n",
            " [[2297.85221675 2561.14778325]\n",
            " [ 198.14778325  220.85221675]]\n",
            "\n",
            "\n",
            "There is no significant relationship between the variables.\n",
            "\n",
            "\n",
            "Cross-tabulation table:\n",
            "Gender     0     1\n",
            "CKD               \n",
            "0       2304  2555\n",
            "1        192   227\n",
            "\n",
            "\n",
            "\n",
            "\n",
            "\n",
            "Chi-square test for Racegrp vs CKD:\n",
            "Chi-square statistic:  52.068875977857964\n",
            "p-value:  2.8955374281102886e-11\n",
            "Degrees of freedom:  3\n",
            "Expected frequencies: \n",
            " [[ 851.56782872 1394.73001137  147.29821902 2465.40394089]\n",
            " [  73.43217128  120.26998863   12.70178098  212.59605911]]\n",
            "\n",
            "\n",
            "There is a significant relationship between the variables.\n",
            "\n",
            "\n",
            "Cross-tabulation table:\n",
            "Racegrp  black  hispa  other  white\n",
            "CKD                                \n",
            "0          855   1448    155   2401\n",
            "1           70     67      5    277\n",
            "\n",
            "\n",
            "\n",
            "\n",
            "\n",
            "Chi-square test for White vs CKD:\n",
            "Chi-square statistic:  42.356356784434354\n",
            "p-value:  7.606868996533601e-11\n",
            "Degrees of freedom:  1\n",
            "Expected frequencies: \n",
            " [[2393.59605911 2465.40394089]\n",
            " [ 206.40394089  212.59605911]]\n",
            "\n",
            "\n",
            "There is a significant relationship between the variables.\n",
            "\n",
            "\n",
            "Cross-tabulation table:\n",
            "White     0     1\n",
            "CKD              \n",
            "0      2458  2401\n",
            "1       142   277\n",
            "\n",
            "\n",
            "\n",
            "\n",
            "\n",
            "Chi-square test for Black vs CKD:\n",
            "Chi-square statistic:  0.1542039526845819\n",
            "p-value:  0.6945498526284282\n",
            "Degrees of freedom:  1\n",
            "Expected frequencies: \n",
            " [[4007.43217128  851.56782872]\n",
            " [ 345.56782872   73.43217128]]\n",
            "\n",
            "\n",
            "There is no significant relationship between the variables.\n",
            "\n",
            "\n",
            "Cross-tabulation table:\n",
            "Black     0    1\n",
            "CKD             \n",
            "0      4004  855\n",
            "1       349   70\n",
            "\n",
            "\n",
            "\n",
            "\n",
            "\n",
            "Chi-square test for Hispa vs CKD:\n",
            "Chi-square statistic:  35.275598077611846\n",
            "p-value:  2.8619555564319945e-09\n",
            "Degrees of freedom:  1\n",
            "Expected frequencies: \n",
            " [[3464.26998863 1394.73001137]\n",
            " [ 298.73001137  120.26998863]]\n",
            "\n",
            "\n",
            "There is a significant relationship between the variables.\n",
            "\n",
            "\n",
            "Cross-tabulation table:\n",
            "Hispa     0     1\n",
            "CKD              \n",
            "0      3411  1448\n",
            "1       352    67\n",
            "\n",
            "\n",
            "\n",
            "\n",
            "\n",
            "Chi-square test for Other vs CKD:\n",
            "Chi-square statistic:  4.574111955452651\n",
            "p-value:  0.032458565617302745\n",
            "Degrees of freedom:  1\n",
            "Expected frequencies: \n",
            " [[4711.70178098  147.29821902]\n",
            " [ 406.29821902   12.70178098]]\n",
            "\n",
            "\n",
            "There is a significant relationship between the variables.\n",
            "\n",
            "\n",
            "Cross-tabulation table:\n",
            "Other     0    1\n",
            "CKD             \n",
            "0      4704  155\n",
            "1       414    5\n",
            "\n",
            "\n",
            "\n",
            "\n",
            "\n",
            "Chi-square test for Under Weight Flag vs CKD:\n",
            "Chi-square statistic:  0.21668798639760284\n",
            "p-value:  0.6415751776717182\n",
            "Degrees of freedom:  1\n",
            "Expected frequencies: \n",
            " [[4774.30352406   84.69647594]\n",
            " [ 411.69647594    7.30352406]]\n",
            "\n",
            "\n",
            "There is no significant relationship between the variables.\n",
            "\n",
            "\n",
            "Cross-tabulation table:\n",
            "Under Weight Flag     0   1\n",
            "CKD                        \n",
            "0                  4776  83\n",
            "1                   410   9\n",
            "\n",
            "\n",
            "\n",
            "\n",
            "\n",
            "Chi-square test for BMI vs CKD:\n",
            "Chi-square statistic:  12.310623450482828\n",
            "p-value:  0.0021221793453292826\n",
            "Degrees of freedom:  2\n",
            "Expected frequencies: \n",
            " [[1495.99753695 1823.73607427 1539.26638878]\n",
            " [ 129.00246305  157.26392573  132.73361122]]\n",
            "\n",
            "\n",
            "There is a significant relationship between the variables.\n",
            "\n",
            "\n",
            "Cross-tabulation table:\n",
            "BMI     0     1     2\n",
            "CKD                  \n",
            "0    1524  1795  1540\n",
            "1     101   186   132\n",
            "\n",
            "\n",
            "\n",
            "\n",
            "\n",
            "Chi-square test for Total Chol vs CKD:\n",
            "Chi-square statistic:  2.6126186016542055\n",
            "p-value:  0.27081772095105805\n",
            "Degrees of freedom:  2\n",
            "Expected frequencies: \n",
            " [[2373.342554   1576.09094354  909.56650246]\n",
            " [ 204.657446    135.90905646   78.43349754]]\n",
            "\n",
            "\n",
            "There is no significant relationship between the variables.\n",
            "\n",
            "\n",
            "Cross-tabulation table:\n",
            "Total Chol     0     1    2\n",
            "CKD                        \n",
            "0           2387  1573  899\n",
            "1            191   139   89\n",
            "\n",
            "\n",
            "\n",
            "\n",
            "\n",
            "Chi-square test for PVD vs CKD:\n",
            "Chi-square statistic:  172.22881769749574\n",
            "p-value:  2.412062507838844e-39\n",
            "Degrees of freedom:  1\n",
            "Expected frequencies: \n",
            " [[4682.24213717  176.75786283]\n",
            " [ 403.75786283   15.24213717]]\n",
            "\n",
            "\n",
            "There is a significant relationship between the variables.\n",
            "\n",
            "\n",
            "Cross-tabulation table:\n",
            "PVD     0    1\n",
            "CKD           \n",
            "0    4731  128\n",
            "1     355   64\n",
            "\n",
            "\n",
            "\n",
            "\n",
            "\n",
            "Chi-square test for Activity vs CKD:\n",
            "Chi-square statistic:  84.42531277708972\n",
            "p-value:  3.4475324668062745e-18\n",
            "Degrees of freedom:  3\n",
            "Expected frequencies: \n",
            " [[1214.28969307 2592.44865479  742.93539219  309.32625995]\n",
            " [ 104.71030693  223.55134521   64.06460781   26.67374005]]\n",
            "\n",
            "\n",
            "There is a significant relationship between the variables.\n",
            "\n",
            "\n",
            "Cross-tabulation table:\n",
            "Activity     1     2    3    4\n",
            "CKD                           \n",
            "0         1147  2606  775  331\n",
            "1          172   210   32    5\n",
            "\n",
            "\n",
            "\n",
            "\n",
            "\n",
            "Chi-square test for PoorVision vs CKD:\n",
            "Chi-square statistic:  53.173127043944\n",
            "p-value:  3.0540845594701125e-13\n",
            "Degrees of freedom:  1\n",
            "Expected frequencies: \n",
            " [[4579.13338386  279.86661614]\n",
            " [ 394.86661614   24.13338386]]\n",
            "\n",
            "\n",
            "There is a significant relationship between the variables.\n",
            "\n",
            "\n",
            "Cross-tabulation table:\n",
            "PoorVision     0    1\n",
            "CKD                  \n",
            "0           4613  246\n",
            "1            361   58\n",
            "\n",
            "\n",
            "\n",
            "\n",
            "\n",
            "Chi-square test for Smoker vs CKD:\n",
            "Chi-square statistic:  22.87920958545966\n",
            "p-value:  1.7250769869970325e-06\n",
            "Degrees of freedom:  1\n",
            "Expected frequencies: \n",
            " [[3372.20860174 1486.79139826]\n",
            " [ 290.79139826  128.20860174]]\n",
            "\n",
            "\n",
            "There is a significant relationship between the variables.\n",
            "\n",
            "\n",
            "Cross-tabulation table:\n",
            "Smoker     0     1\n",
            "CKD               \n",
            "0       3416  1443\n",
            "1        247   172\n",
            "\n",
            "\n",
            "\n",
            "\n",
            "\n",
            "Chi-square test for Hypertension vs CKD:\n",
            "Chi-square statistic:  291.32193286954646\n",
            "p-value:  2.5616590676378717e-65\n",
            "Degrees of freedom:  1\n",
            "Expected frequencies: \n",
            " [[2968.0591133 1890.9408867]\n",
            " [ 255.9408867  163.0591133]]\n",
            "\n",
            "\n",
            "There is a significant relationship between the variables.\n",
            "\n",
            "\n",
            "Cross-tabulation table:\n",
            "Hypertension     0     1\n",
            "CKD                     \n",
            "0             3132  1727\n",
            "1               92   327\n",
            "\n",
            "\n",
            "\n",
            "\n",
            "\n",
            "Chi-square test for Fam Hypertension vs CKD:\n",
            "Chi-square statistic:  9.369925793188521\n",
            "p-value:  0.002205744494314958\n",
            "Degrees of freedom:  1\n",
            "Expected frequencies: \n",
            " [[3672.328723 1186.671277]\n",
            " [ 316.671277  102.328723]]\n",
            "\n",
            "\n",
            "There is a significant relationship between the variables.\n",
            "\n",
            "\n",
            "Cross-tabulation table:\n",
            "Fam Hypertension     0     1\n",
            "CKD                         \n",
            "0                 3646  1213\n",
            "1                  343    76\n",
            "\n",
            "\n",
            "\n",
            "\n",
            "\n",
            "Chi-square test for Diabetes vs CKD:\n",
            "Chi-square statistic:  136.3412598584382\n",
            "p-value:  1.6802312327569883e-31\n",
            "Degrees of freedom:  1\n",
            "Expected frequencies: \n",
            " [[4326.88518378  532.11481622]\n",
            " [ 373.11481622   45.88518378]]\n",
            "\n",
            "\n",
            "There is a significant relationship between the variables.\n",
            "\n",
            "\n",
            "Cross-tabulation table:\n",
            "Diabetes     0    1\n",
            "CKD                \n",
            "0         4399  460\n",
            "1          301  118\n",
            "\n",
            "\n",
            "\n",
            "\n",
            "\n",
            "Chi-square test for Fam Diabetes vs CKD:\n",
            "Chi-square statistic:  1.768056194975169\n",
            "p-value:  0.1836228232658419\n",
            "Degrees of freedom:  1\n",
            "Expected frequencies: \n",
            " [[3335.38404699 1523.61595301]\n",
            " [ 287.61595301  131.38404699]]\n",
            "\n",
            "\n",
            "There is no significant relationship between the variables.\n",
            "\n",
            "\n",
            "Cross-tabulation table:\n",
            "Fam Diabetes     0     1\n",
            "CKD                     \n",
            "0             3348  1511\n",
            "1              275   144\n",
            "\n",
            "\n",
            "\n",
            "\n",
            "\n",
            "Chi-square test for Stroke vs CKD:\n",
            "Chi-square statistic:  145.63986163257567\n",
            "p-value:  1.5562285015362463e-33\n",
            "Degrees of freedom:  1\n",
            "Expected frequencies: \n",
            " [[4719.9873058  139.0126942]\n",
            " [ 407.0126942   11.9873058]]\n",
            "\n",
            "\n",
            "There is a significant relationship between the variables.\n",
            "\n",
            "\n",
            "Cross-tabulation table:\n",
            "Stroke     0   1\n",
            "CKD             \n",
            "0       4760  99\n",
            "1        367  52\n",
            "\n",
            "\n",
            "\n",
            "\n",
            "\n",
            "Chi-square test for CVD vs CKD:\n",
            "Chi-square statistic:  274.8874138583407\n",
            "p-value:  9.766823957703011e-62\n",
            "Degrees of freedom:  1\n",
            "Expected frequencies: \n",
            " [[4562.56233422  296.43766578]\n",
            " [ 393.43766578   25.56233422]]\n",
            "\n",
            "\n",
            "There is a significant relationship between the variables.\n",
            "\n",
            "\n",
            "Cross-tabulation table:\n",
            "CVD     0    1\n",
            "CKD           \n",
            "0    4641  218\n",
            "1     315  104\n",
            "\n",
            "\n",
            "\n",
            "\n",
            "\n",
            "Chi-square test for Fam CVD vs CKD:\n",
            "Chi-square statistic:  7.792166349691144\n",
            "p-value:  0.005247324097009068\n",
            "Degrees of freedom:  1\n",
            "Expected frequencies: \n",
            " [[3182.56214475 1676.43785525]\n",
            " [ 274.43785525  144.56214475]]\n",
            "\n",
            "\n",
            "There is a significant relationship between the variables.\n",
            "\n",
            "\n",
            "Cross-tabulation table:\n",
            "Fam CVD     0     1\n",
            "CKD                \n",
            "0        3156  1703\n",
            "1         301   118\n",
            "\n",
            "\n",
            "\n",
            "\n",
            "\n",
            "Chi-square test for CHF vs CKD:\n",
            "Chi-square statistic:  140.32716376531567\n",
            "p-value:  2.2577256423852085e-32\n",
            "Degrees of freedom:  1\n",
            "Expected frequencies: \n",
            " [[4730.11405836  128.88594164]\n",
            " [ 407.88594164   11.11405836]]\n",
            "\n",
            "\n",
            "There is a significant relationship between the variables.\n",
            "\n",
            "\n",
            "Cross-tabulation table:\n",
            "CHF     0   1\n",
            "CKD          \n",
            "0    4768  91\n",
            "1     370  49\n",
            "\n",
            "\n",
            "\n",
            "\n",
            "\n"
          ]
        }
      ]
    },
    {
      "cell_type": "code",
      "source": [
        "import pandas as pd\n",
        "import numpy as np\n",
        "import seaborn as sns\n",
        "import matplotlib.pyplot as plt\n",
        "from scipy.stats import pearsonr\n",
        "\n",
        "\n",
        "\n",
        "variables = ['BMI Interaction','Family History Score', 'CKD']\n",
        "\n",
        "\n",
        "selected_data = df[variables]\n",
        "\n",
        "\n",
        "corr_matrix = selected_data.corr()\n",
        "\n",
        "\n",
        "p_values = np.zeros_like(corr_matrix)\n",
        "for i in range(len(variables)):\n",
        "    for j in range(i+1, len(variables)):\n",
        "        corr, p_val = pearsonr(selected_data[variables[i]], selected_data[variables[j]])\n",
        "        p_values[i, j] = p_val\n",
        "\n",
        "p_values[p_values == 0] = np.nan\n"
      ],
      "metadata": {
        "id": "rafAYpkrRbzw"
      },
      "execution_count": null,
      "outputs": []
    },
    {
      "cell_type": "code",
      "source": [
        "df.columns"
      ],
      "metadata": {
        "colab": {
          "base_uri": "https://localhost:8080/"
        },
        "id": "6gB6w7qQGOdx",
        "outputId": "81357698-15cc-42d1-a611-ea37f18c7450"
      },
      "execution_count": null,
      "outputs": [
        {
          "output_type": "execute_result",
          "data": {
            "text/plain": [
              "Index(['Age', 'Gender', 'Racegrp', 'White', 'Black', 'Hispa', 'Other',\n",
              "       'Under Weight Flag', 'BMI', 'Total Chol', 'PVD', 'Activity',\n",
              "       'PoorVision', 'Smoker', 'Hypertension', 'Fam Hypertension', 'Diabetes',\n",
              "       'Fam Diabetes', 'Stroke', 'CVD', 'Fam CVD', 'CHF', 'CKD'],\n",
              "      dtype='object')"
            ]
          },
          "metadata": {},
          "execution_count": 23
        }
      ]
    },
    {
      "cell_type": "code",
      "source": [
        "# Confusion Matrix Plotting Function -- feel free to save and use later\n",
        "import numpy as np\n",
        "import matplotlib.pyplot as plt\n",
        "import seaborn as sns\n",
        "from sklearn import metrics #auc, roc, and other scores\n",
        "from sklearn.metrics import confusion_matrix\n",
        "\n",
        "def make_confusion_matrix(cf,\n",
        "                          group_names=None,\n",
        "                          categories='auto',\n",
        "                          count=True,\n",
        "                          percent=True,\n",
        "                          cbar=True,\n",
        "                          xyticks=True,\n",
        "                          xyplotlabels=True,\n",
        "                          sum_stats=True,\n",
        "                          figsize=None,\n",
        "                          cmap='magma',     # cmaps = magma, copper, mako, nipy_spectral\n",
        "                          title=None):\n",
        "    '''\n",
        "    This function will make a pretty plot of an sklearn Confusion Matrix cm using a Seaborn heatmap visualization.\n",
        "    Arguments\n",
        "    ---------\n",
        "    cf:            confusion matrix to be passed in\n",
        "    group_names:   List of strings that represent the labels row by row to be shown in each square.\n",
        "    categories:    List of strings containing the categories to be displayed on the x,y axis. Default is 'auto'\n",
        "    count:         If True, show the raw number in the confusion matrix. Default is True.\n",
        "    percent:     If True, show the proportions for each category. Default is True.\n",
        "    cbar:          If True, show the color bar. The cbar values are based off the values in the confusion matrix.\n",
        "                   Default is True.\n",
        "    xyticks:       If True, show x and y ticks. Default is True.\n",
        "    xyplotlabels:  If True, show 'True Label' and 'Predicted Label' on the figure. Default is True.\n",
        "    sum_stats:     If True, display summary statistics below the figure. Default is True.\n",
        "    figsize:       Tuple representing the figure size. Default will be the matplotlib rcParams value.\n",
        "    cmap:          Colormap of the values displayed from matplotlib.pyplot.cm. Default is 'Blues'\n",
        "                   See http://matplotlib.org/examples/color/colormaps_reference.html\n",
        "                   \n",
        "    title:         Title for the heatmap. Default is None.\n",
        "    '''\n",
        "\n",
        "\n",
        "    # CODE TO GENERATE TEXT INSIDE EACH SQUARE\n",
        "    blanks = ['' for i in range(cf.size)]\n",
        "\n",
        "    if group_names and len(group_names)==cf.size:\n",
        "        group_labels = [\"{}\\n\".format(value) for value in group_names]\n",
        "    else:\n",
        "        group_labels = blanks\n",
        "\n",
        "    if count:\n",
        "        group_counts = [\"{0:0.0f}\\n\".format(value) for value in cf.flatten()]\n",
        "    else:\n",
        "        group_counts = blanks\n",
        "\n",
        "    if percent:\n",
        "        group_percentages = [\"{0:.2%}\".format(value) for value in cf.flatten()/np.sum(cf)]\n",
        "    else:\n",
        "        group_percentages = blanks\n",
        "\n",
        "    box_labels = [f\"{v1}{v2}{v3}\".strip() for v1, v2, v3 in zip(group_labels,group_counts,group_percentages)]\n",
        "    box_labels = np.asarray(box_labels).reshape(cf.shape[0],cf.shape[1])\n",
        "\n",
        "\n",
        "    # CODE TO GENERATE SUMMARY STATISTICS & TEXT FOR SUMMARY STATS\n",
        "    if sum_stats:\n",
        "        #Accuracy is sum of diagonal divided by total observations\n",
        "        accuracy  = np.trace(cf) / float(np.sum(cf))\n",
        "\n",
        "        #if it is a binary confusion matrix, show some more stats\n",
        "        if len(cf)==2:\n",
        "            #Metrics for Binary Confusion Matrices\n",
        "            precision = cf[1,1] / sum(cf[:,1])\n",
        "            recall    = cf[1,1] / sum(cf[1,:])\n",
        "            f1_score  = 2*precision*recall / (precision + recall)\n",
        "            stats_text = \"\\n\\nAccuracy={:0.3f}\\nPrecision={:0.3f}\\nRecall={:0.3f}\\nF1 Score={:0.3f}\".format(\n",
        "                accuracy,precision,recall,f1_score)\n",
        "        else:\n",
        "            stats_text = \"\\n\\nAccuracy={:0.3f}\".format(accuracy)\n",
        "    else:\n",
        "        stats_text = \"\"\n",
        "\n",
        "\n",
        "    # SET FIGURE PARAMETERS ACCORDING TO OTHER ARGUMENTS\n",
        "    if figsize==None:\n",
        "        #Get default figure size if not set\n",
        "        figsize = plt.rcParams.get('figure.figsize')\n",
        "\n",
        "    if xyticks==False:\n",
        "        #Do not show categories if xyticks is False\n",
        "        categories=False\n",
        "\n",
        "\n",
        "    # MAKE THE HEATMAP VISUALIZATION\n",
        "    plt.figure(figsize=figsize)\n",
        "    sns.heatmap(cf,annot=box_labels,fmt=\"\",cmap=cmap,cbar=cbar,xticklabels=categories,yticklabels=categories)\n",
        "\n",
        "    if xyplotlabels:\n",
        "        plt.ylabel('Actual')\n",
        "        plt.xlabel('Predicted' + stats_text)\n",
        "    else:\n",
        "        plt.xlabel(stats_text)\n",
        "    \n",
        "    if title:\n",
        "        plt.title(title)"
      ],
      "metadata": {
        "id": "3zf9AF7ZotAJ"
      },
      "execution_count": 7,
      "outputs": []
    },
    {
      "cell_type": "code",
      "source": [
        "import pandas as pd\n",
        "import numpy as np\n",
        "from sklearn.model_selection import train_test_split\n",
        "from sklearn.linear_model import LogisticRegression\n",
        "from sklearn.metrics import accuracy_score, precision_score, recall_score, f1_score, roc_auc_score, confusion_matrix, classification_report\n",
        "\n",
        "\n",
        "X = df[['Age','White', 'Black', 'Hispa', 'Other','BMI','PVD', 'Activity',\n",
        "       'PoorVision', 'Smoker', 'Hypertension', 'Fam Hypertension', 'Diabetes', 'Stroke', 'CVD', 'Fam CVD', 'CHF']]\n",
        "\n",
        "y = df['CKD']\n",
        "\n",
        "# Split the data into training and testing sets\n",
        "X_train, X_test, y_train, y_test = train_test_split(X, y, test_size=0.3, random_state=42)\n",
        "\n",
        "# Instantiate the logistic regression model\n",
        "logreg = LogisticRegression()\n",
        "\n",
        "# Fit the model to the training data\n",
        "logreg.fit(X_train, y_train)\n",
        "\n",
        "# Predict the target variable for the testing set\n",
        "y_pred = logreg.predict(X_test)\n",
        "\n",
        "# Calculate the model metrics\n",
        "accuracy = accuracy_score(y_test, y_pred)\n",
        "precision = precision_score(y_test, y_pred)\n",
        "recall = recall_score(y_test, y_pred)\n",
        "f1 = f1_score(y_test, y_pred)\n",
        "roc_auc = roc_auc_score(y_test, y_pred)\n",
        "confusion = confusion_matrix(y_test, y_pred)\n",
        "\n",
        "# Output the model metrics\n",
        "print(\"Accuracy:\", accuracy)\n",
        "print(\"Precision:\", precision)\n",
        "print(\"Recall:\", recall)\n",
        "print(\"F1 Score:\", f1)\n",
        "print(\"ROC AUC Score:\", roc_auc)\n",
        "print(\"Confusion Matrix:\\n\", confusion)\n",
        "print('Classification report:\\n', classification_report(y_test, y_pred))\n",
        "\n",
        "\n",
        "\n",
        "odds_ratios = np.exp(logreg.coef_[0])\n",
        "\n",
        "# Create a dataframe to store the results\n",
        "results_df = pd.DataFrame({'Odds Ratio': odds_ratios}, index=X.columns)\n",
        "\n",
        "# Sort the dataframe by descending order of odds ratio\n",
        "results_df = results_df.sort_values(by='Odds Ratio', ascending=False)\n",
        "\n",
        "# Print the sorted dataframe\n",
        "print(results_df)\n",
        "\n"
      ],
      "metadata": {
        "colab": {
          "base_uri": "https://localhost:8080/"
        },
        "id": "xWYanM_x2w94",
        "outputId": "bb25b6eb-3a97-4253-cb7c-835f2af7ee03"
      },
      "execution_count": 16,
      "outputs": [
        {
          "output_type": "stream",
          "name": "stdout",
          "text": [
            "Accuracy: 0.9286616161616161\n",
            "Precision: 0.4722222222222222\n",
            "Recall: 0.15315315315315314\n",
            "F1 Score: 0.2312925170068027\n",
            "ROC AUC Score: 0.5701271536302086\n",
            "Confusion Matrix:\n",
            " [[1454   19]\n",
            " [  94   17]]\n",
            "Classification report:\n",
            "               precision    recall  f1-score   support\n",
            "\n",
            "           0       0.94      0.99      0.96      1473\n",
            "           1       0.47      0.15      0.23       111\n",
            "\n",
            "    accuracy                           0.93      1584\n",
            "   macro avg       0.71      0.57      0.60      1584\n",
            "weighted avg       0.91      0.93      0.91      1584\n",
            "\n",
            "                  Odds Ratio\n",
            "Age                 2.856931\n",
            "Hypertension        1.961171\n",
            "Diabetes            1.908407\n",
            "PVD                 1.894247\n",
            "Fam CVD             1.880505\n",
            "CHF                 1.766218\n",
            "CVD                 1.760773\n",
            "White               1.393991\n",
            "BMI                 1.162738\n",
            "Black               1.158375\n",
            "Stroke              0.995429\n",
            "Smoker              0.945977\n",
            "Other               0.901923\n",
            "PoorVision          0.900868\n",
            "Activity            0.741088\n",
            "Hispa               0.687071\n",
            "Fam Hypertension    0.594412\n"
          ]
        }
      ]
    },
    {
      "cell_type": "code",
      "source": [
        "# Plot Confusion Matrix\n",
        "model_name = 'Logistic Regression'\n",
        "cm = confusion_matrix(y_test, y_pred)\n",
        "labels = ['True Neg', 'False Pos', 'False Neg', 'True Pos']\n",
        "categories = ['Zero', 'One']\n",
        "make_confusion_matrix(cm, group_names=labels, categories=categories, percent=False, cmap='cubehelix')\n",
        "plt.title(f'{model_name} - Performance')\n",
        "print(f\"AUC- {metrics.roc_auc_score(y_test, y_pred) *100:.2f}\")"
      ],
      "metadata": {
        "colab": {
          "base_uri": "https://localhost:8080/",
          "height": 370
        },
        "id": "1Zz5afcg3VyB",
        "outputId": "537d52a3-cabc-4f7d-ec91-ab00b2b86fb3"
      },
      "execution_count": 17,
      "outputs": [
        {
          "output_type": "stream",
          "name": "stdout",
          "text": [
            "AUC- 57.01\n"
          ]
        },
        {
          "output_type": "display_data",
          "data": {
            "text/plain": [
              "<Figure size 432x288 with 2 Axes>"
            ],
            "image/png": "[encoded data removed]"
          },
          "metadata": {
            "needs_background": "light"
          }
        }
      ]
    },
    {
      "cell_type": "code",
      "source": [
        "# Load the new dataset (assuming it has the same column names as the original dataset)\n",
        "new_data = pd.read_excel('Final Kindey.xlsx', sheet_name= 1)\n",
        "\n",
        "# Extract the features from the new dataset\n",
        "X_new = new_data[['Age','White', 'Black', 'Hispa', 'Other','BMI','PVD', 'Activity',\n",
        "       'PoorVision', 'Smoker', 'Hypertension', 'Fam Hypertension', 'Diabetes', 'Stroke', 'CVD', 'Fam CVD', 'CHF']]\n",
        "\n",
        "# Predict the target variable for the new dataset\n",
        "y_new = logreg.predict(X_new)\n",
        "\n",
        "# Print the predicted target variable for the new dataset\n",
        "print(y_new)\n"
      ],
      "metadata": {
        "colab": {
          "base_uri": "https://localhost:8080/"
        },
        "id": "uQX1CR45Qg-k",
        "outputId": "1adcee2f-cf6e-4e81-8836-ecedfab14c7c"
      },
      "execution_count": 18,
      "outputs": [
        {
          "output_type": "stream",
          "name": "stdout",
          "text": [
            "[0 0 0 ... 0 0 0]\n"
          ]
        }
      ]
    },
    {
      "cell_type": "code",
      "source": [
        "new_data['CKD_Predicted'] = y_new\n",
        "\n",
        "# Save the new dataset with the predicted values\n",
        "new_data.to_csv('new_data_with_predictions.csv', index=False)"
      ],
      "metadata": {
        "id": "-p0l1Aa_Q_8L"
      },
      "execution_count": 19,
      "outputs": []
    },
    {
      "cell_type": "code",
      "source": [
        "from sklearn.linear_model import LogisticRegressionCV\n",
        "from sklearn.datasets import make_classification\n",
        "\n",
        "\n",
        "# Define the logistic regression model with cross-validation\n",
        "logreg_cv = LogisticRegressionCV(cv=10, max_iter=10000, random_state=42)\n",
        "\n",
        "# Fit the model to the data\n",
        "logreg_cv.fit(X_train, y_train)\n",
        "\n",
        "lr_pred = logreg_cv.predict(X_test)\n",
        "\n",
        "# Plot Confusion Matrix\n",
        "model_name = 'Logistic Regression'\n",
        "cm = confusion_matrix(y_test, lr_pred)\n",
        "labels = ['True Neg', 'False Pos', 'False Neg', 'True Pos']\n",
        "categories = ['Zero', 'One']\n",
        "make_confusion_matrix(cm, group_names=labels, categories=categories, percent=False, cmap='cubehelix')\n",
        "plt.title(f'{model_name} - Performance')\n",
        "print(f\"AUC- {metrics.roc_auc_score(y_test, lr_pred) *100:.2f}\")\n",
        "\n",
        "\n",
        "\n",
        "\n",
        "# Create a dataframe to store the results\n",
        "results_df = pd.DataFrame({'Odds Ratio': odds_ratios}, index=X.columns)\n",
        "\n",
        "odds_ratios = np.exp(logreg_cv.coef_[0])\n",
        "\n",
        "\n",
        "\n",
        "# Sort the dataframe by descending order of odds ratio\n",
        "results_df = results_df.sort_values(by='Odds Ratio', ascending=False)\n",
        "\n",
        "# Print the sorted dataframe\n",
        "print(results_df)\n",
        "\n",
        "\n"
      ],
      "metadata": {
        "colab": {
          "base_uri": "https://localhost:8080/",
          "height": 676
        },
        "id": "bWyaoUms8tG1",
        "outputId": "418763c9-d15f-4f4f-bfaf-a436aaddc20d"
      },
      "execution_count": 15,
      "outputs": [
        {
          "output_type": "stream",
          "name": "stdout",
          "text": [
            "AUC- 55.62\n",
            "                  Odds Ratio\n",
            "Age                 2.701082\n",
            "Hypertension        1.665152\n",
            "Diabetes            1.563611\n",
            "CVD                 1.483390\n",
            "PVD                 1.437569\n",
            "CHF                 1.348542\n",
            "Fam CVD             1.286800\n",
            "White               1.251255\n",
            "BMI                 1.151288\n",
            "Stroke              1.116091\n",
            "Black               1.094259\n",
            "Smoker              0.990621\n",
            "PoorVision          0.974883\n",
            "Other               0.966741\n",
            "Fam Hypertension    0.883068\n",
            "Hispa               0.755272\n",
            "Activity            0.746370\n"
          ]
        },
        {
          "output_type": "display_data",
          "data": {
            "text/plain": [
              "<Figure size 432x288 with 2 Axes>"
            ],
            "image/png": "[encoded data removed]"
          },
          "metadata": {
            "needs_background": "light"
          }
        }
      ]
    },
    {
      "cell_type": "code",
      "source": [
        "import pandas as pd\n",
        "import numpy as np\n",
        "import statsmodels.api as sm\n",
        "from sklearn.model_selection import train_test_split\n",
        "\n",
        "# Load the dataset into a pandas DataFrame called 'df'\n",
        "# ...\n",
        "\n",
        "# Define the predictor variables and the target variable\n",
        "X = df[['Age','White', 'Black', 'Hispa', 'Other','BMI', 'Total Chol','PVD', 'Activity',\n",
        "       'PoorVision', 'Smoker', 'Hypertension', 'Fam Hypertension', 'Diabetes',\n",
        "       'Fam Diabetes', 'Stroke', 'CVD', 'Fam CVD', 'CHF']]\n",
        "y = df['CKD']\n",
        "\n",
        "# Split the data into training and testing sets\n",
        "X_train, X_test, y_train, y_test = train_test_split(X, y, test_size=0.3, random_state=42)\n",
        "\n",
        "# Fit the logistic regression model using statsmodels\n",
        "X_train = sm.add_constant(X_train)  # add a constant term for the intercept\n",
        "logit_model = sm.Logit(y_train, X_train)\n",
        "logit_results = logit_model.fit()\n",
        "\n",
        "# Extract the odds ratios and p-values from the model results\n",
        "odds_ratios = np.exp(logit_results.params[1:])\n",
        "p_values = logit_results.pvalues[1:]\n",
        "\n",
        "# Combine the odds ratios and p-values into a DataFrame\n",
        "results_df = pd.DataFrame({'Odds Ratio': odds_ratios, 'p-value': p_values}, index=X.columns)\n",
        "print(results_df)\n"
      ],
      "metadata": {
        "colab": {
          "base_uri": "https://localhost:8080/"
        },
        "id": "PC1cIJju-j0g",
        "outputId": "0fbbbd61-58eb-4bb0-ecce-cf7340f8f63a"
      },
      "execution_count": null,
      "outputs": [
        {
          "output_type": "stream",
          "name": "stdout",
          "text": [
            "Optimization terminated successfully.\n",
            "         Current function value: 0.192230\n",
            "         Iterations 8\n",
            "                  Odds Ratio       p-value\n",
            "Age                 2.864559  1.101367e-42\n",
            "White               0.375773           NaN\n",
            "Black               0.316693           NaN\n",
            "Hispa               0.184393           NaN\n",
            "Other               0.242858           NaN\n",
            "BMI                 1.159682  1.259914e-01\n",
            "Total Chol          1.110002  2.502925e-01\n",
            "PVD                 1.941246  2.638529e-03\n",
            "Activity            0.742092  6.122955e-03\n",
            "PoorVision          0.905644  6.585655e-01\n",
            "Smoker              0.953451  7.401110e-01\n",
            "Hypertension        1.977715  7.494688e-05\n",
            "Fam Hypertension    0.556952  2.737789e-02\n",
            "Diabetes            2.064813  3.189021e-05\n",
            "Fam Diabetes        0.846873  2.793892e-01\n",
            "Stroke              0.938432  8.479421e-01\n",
            "CVD                 1.858638  1.171319e-02\n",
            "Fam CVD             2.037431  2.283329e-03\n",
            "CHF                 1.831963  2.087913e-02\n"
          ]
        }
      ]
    }
  ]
}